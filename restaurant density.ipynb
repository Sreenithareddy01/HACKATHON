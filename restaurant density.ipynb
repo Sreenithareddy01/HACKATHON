{
 "cells": [
  {
   "cell_type": "code",
   "execution_count": 1,
   "id": "cdf30810-40a2-4acc-86b6-e2a4631dd4e7",
   "metadata": {},
   "outputs": [
    {
     "name": "stdout",
     "output_type": "stream",
     "text": [
      "Requirement already satisfied: folium in c:\\users\\sreen\\anaconda3\\lib\\site-packages (0.19.5)\n",
      "Requirement already satisfied: branca>=0.6.0 in c:\\users\\sreen\\anaconda3\\lib\\site-packages (from folium) (0.8.1)\n",
      "Requirement already satisfied: jinja2>=2.9 in c:\\users\\sreen\\anaconda3\\lib\\site-packages (from folium) (3.1.4)\n",
      "Requirement already satisfied: numpy in c:\\users\\sreen\\anaconda3\\lib\\site-packages (from folium) (1.26.4)\n",
      "Requirement already satisfied: requests in c:\\users\\sreen\\anaconda3\\lib\\site-packages (from folium) (2.32.2)\n",
      "Requirement already satisfied: xyzservices in c:\\users\\sreen\\anaconda3\\lib\\site-packages (from folium) (2022.9.0)\n",
      "Requirement already satisfied: MarkupSafe>=2.0 in c:\\users\\sreen\\anaconda3\\lib\\site-packages (from jinja2>=2.9->folium) (2.1.3)\n",
      "Requirement already satisfied: charset-normalizer<4,>=2 in c:\\users\\sreen\\anaconda3\\lib\\site-packages (from requests->folium) (2.0.4)\n",
      "Requirement already satisfied: idna<4,>=2.5 in c:\\users\\sreen\\anaconda3\\lib\\site-packages (from requests->folium) (3.7)\n",
      "Requirement already satisfied: urllib3<3,>=1.21.1 in c:\\users\\sreen\\anaconda3\\lib\\site-packages (from requests->folium) (2.2.2)\n",
      "Requirement already satisfied: certifi>=2017.4.17 in c:\\users\\sreen\\anaconda3\\lib\\site-packages (from requests->folium) (2024.12.14)\n"
     ]
    }
   ],
   "source": [
    "!pip install folium"
   ]
  },
  {
   "cell_type": "code",
   "execution_count": 3,
   "id": "1798fdb5-278a-4ab2-baa3-d231131e601b",
   "metadata": {},
   "outputs": [
    {
     "name": "stdout",
     "output_type": "stream",
     "text": [
      "Requirement already satisfied: IPython in c:\\users\\sreen\\anaconda3\\lib\\site-packages (8.25.0)\n",
      "Requirement already satisfied: decorator in c:\\users\\sreen\\anaconda3\\lib\\site-packages (from IPython) (5.1.1)\n",
      "Requirement already satisfied: jedi>=0.16 in c:\\users\\sreen\\anaconda3\\lib\\site-packages (from IPython) (0.18.1)\n",
      "Requirement already satisfied: matplotlib-inline in c:\\users\\sreen\\anaconda3\\lib\\site-packages (from IPython) (0.1.6)\n",
      "Requirement already satisfied: prompt-toolkit<3.1.0,>=3.0.41 in c:\\users\\sreen\\anaconda3\\lib\\site-packages (from IPython) (3.0.43)\n",
      "Requirement already satisfied: pygments>=2.4.0 in c:\\users\\sreen\\anaconda3\\lib\\site-packages (from IPython) (2.15.1)\n",
      "Requirement already satisfied: stack-data in c:\\users\\sreen\\anaconda3\\lib\\site-packages (from IPython) (0.2.0)\n",
      "Requirement already satisfied: traitlets>=5.13.0 in c:\\users\\sreen\\anaconda3\\lib\\site-packages (from IPython) (5.14.3)\n",
      "Requirement already satisfied: colorama in c:\\users\\sreen\\anaconda3\\lib\\site-packages (from IPython) (0.4.6)\n",
      "Requirement already satisfied: parso<0.9.0,>=0.8.0 in c:\\users\\sreen\\anaconda3\\lib\\site-packages (from jedi>=0.16->IPython) (0.8.3)\n",
      "Requirement already satisfied: wcwidth in c:\\users\\sreen\\anaconda3\\lib\\site-packages (from prompt-toolkit<3.1.0,>=3.0.41->IPython) (0.2.5)\n",
      "Requirement already satisfied: executing in c:\\users\\sreen\\anaconda3\\lib\\site-packages (from stack-data->IPython) (0.8.3)\n",
      "Requirement already satisfied: asttokens in c:\\users\\sreen\\anaconda3\\lib\\site-packages (from stack-data->IPython) (2.0.5)\n",
      "Requirement already satisfied: pure-eval in c:\\users\\sreen\\anaconda3\\lib\\site-packages (from stack-data->IPython) (0.2.2)\n",
      "Requirement already satisfied: six in c:\\users\\sreen\\anaconda3\\lib\\site-packages (from asttokens->stack-data->IPython) (1.16.0)\n"
     ]
    }
   ],
   "source": [
    "!pip install IPython"
   ]
  },
  {
   "cell_type": "code",
   "execution_count": 5,
   "id": "01fb325c-78ba-4ce8-9cbc-c265561702ff",
   "metadata": {},
   "outputs": [],
   "source": [
    "import numpy as np\n",
    "import pandas as pd\n",
    "from folium.plugins import MarkerCluster\n",
    "import folium\n",
    "from IPython.display import IFrame"
   ]
  },
  {
   "cell_type": "code",
   "execution_count": 7,
   "id": "7e50fb05-2a4c-499e-8ecf-a09c40d7d0e2",
   "metadata": {},
   "outputs": [],
   "source": [
    "data1=pd.read_csv(\"zomato_data_cleaned.csv\")\n",
    "data2=pd.read_csv(\"Geographical Coordinates.csv\")"
   ]
  },
  {
   "cell_type": "code",
   "execution_count": 9,
   "id": "f43eff60-7784-4fec-a7de-cdd843a09b79",
   "metadata": {},
   "outputs": [],
   "source": [
    "merged_df=pd.merge(data1,data2,on='listed_incity',how='left')"
   ]
  },
  {
   "cell_type": "code",
   "execution_count": 11,
   "id": "88879727-2339-452b-8b7f-5637fdd0f247",
   "metadata": {},
   "outputs": [
    {
     "name": "stdout",
     "output_type": "stream",
     "text": [
      "  listed_incity   Latitude  Longitude\n",
      "0  Banashankari  12.939333  77.553982\n",
      "1  Banashankari  12.939333  77.553982\n",
      "2  Banashankari  12.939333  77.553982\n",
      "3  Banashankari  12.939333  77.553982\n",
      "4  Banashankari  12.939333  77.553982\n"
     ]
    }
   ],
   "source": [
    "print(merged_df[['listed_incity','Latitude','Longitude']].head())"
   ]
  },
  {
   "cell_type": "code",
   "execution_count": 15,
   "id": "fac54c33-b161-498c-b670-2ac8aacba0c8",
   "metadata": {},
   "outputs": [],
   "source": [
    "df = pd.merge(data1, data2, on='listed_incity', how='left')\n",
    "df_clean = df.dropna(subset=['Latitude', 'Longitude'])\n",
    "bangalore_coords = [12.9716, 77.5946]\n",
    "restaurant_map = folium.Map(location=bangalore_coords, zoom_start=12)\n",
    "marker_cluster = MarkerCluster().add_to(restaurant_map)\n",
    "for idx, row in df_clean.iterrows():\n",
    "    lat = row['Latitude']\n",
    "    lon = row['Longitude']\n",
    "    city = row['listed_incity']\n",
    "    rating = row['rate'] if pd.notnull(row['rate']) else \"N/A\"\n",
    "    cost = row['approx_costfor_two_people'] if pd.notnull(row['approx_costfor_two_people']) else \"N/A\"\n",
    "    \n",
    "    popup_text = f\"\"\"\n",
    "    <b>City:</b> {city}<br>\n",
    "    <b>Rating:</b> {rating}<br>\n",
    "    <b>Cost for Two:</b> ₹{cost}\n",
    "    \"\"\"\n",
    "    \n",
    "    folium.Marker(\n",
    "        location=[lat, lon],\n",
    "        popup=popup_text,\n",
    "        icon=folium.Icon(color='purple', icon='cutlery', prefix='fa')\n",
    "    ).add_to(marker_cluster)\n",
    "restaurant_map.save(\"restaurant_density_map.html\")\n"
   ]
  },
  {
   "cell_type": "code",
   "execution_count": 16,
   "id": "8c451c67-144e-40cb-bb98-6a4a430121a7",
   "metadata": {},
   "outputs": [
    {
     "data": {
      "text/html": [
       "\n",
       "        <iframe\n",
       "            width=\"1000\"\n",
       "            height=\"800\"\n",
       "            src=\"restaurant_density_map.html\"\n",
       "            frameborder=\"0\"\n",
       "            allowfullscreen\n",
       "            \n",
       "        ></iframe>\n",
       "        "
      ],
      "text/plain": [
       "<IPython.lib.display.IFrame at 0x2c87bee3200>"
      ]
     },
     "execution_count": 16,
     "metadata": {},
     "output_type": "execute_result"
    }
   ],
   "source": [
    "IFrame(\"restaurant_density_map.html\",width=1000,height=800)"
   ]
  },
  {
   "cell_type": "code",
   "execution_count": null,
   "id": "bc723110-48f1-4f0f-883f-4d56b202754d",
   "metadata": {},
   "outputs": [],
   "source": []
  }
 ],
 "metadata": {
  "kernelspec": {
   "display_name": "Python 3 (ipykernel)",
   "language": "python",
   "name": "python3"
  },
  "language_info": {
   "codemirror_mode": {
    "name": "ipython",
    "version": 3
   },
   "file_extension": ".py",
   "mimetype": "text/x-python",
   "name": "python",
   "nbconvert_exporter": "python",
   "pygments_lexer": "ipython3",
   "version": "3.12.4"
  }
 },
 "nbformat": 4,
 "nbformat_minor": 5
}
